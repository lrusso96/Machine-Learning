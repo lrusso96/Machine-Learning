{
 "cells": [
  {
   "cell_type": "code",
   "execution_count": 1,
   "metadata": {},
   "outputs": [],
   "source": [
    "# fix sizes of training set for unbalanced dataset\n",
    "def setTrainingSize(size, ratio_1):\n",
    "    a = int(size*ratio_1)\n",
    "    b = size - a\n",
    "    return a, b"
   ]
  },
  {
   "cell_type": "code",
   "execution_count": 2,
   "metadata": {},
   "outputs": [
    {
     "name": "stdout",
     "output_type": "stream",
     "text": [
      "the dataset contains 2000 malwares out of 5000 files\n"
     ]
    }
   ],
   "source": [
    "max_files = 5000\n",
    "num_malwares, num_good = setTrainingSize(max_files, 0.4)\n",
    "\n",
    "#debug\n",
    "print(\"the dataset contains\",num_malwares,\"malwares out of\", max_files, \"files\")"
   ]
  },
  {
   "cell_type": "code",
   "execution_count": 3,
   "metadata": {},
   "outputs": [],
   "source": [
    "# save all malwares in a set\n",
    "def loadMalwares(path):\n",
    "    malwares = set()\n",
    "    with open(path, \"r\") as fin:\n",
    "        fin.readline()\n",
    "        for line in fin:\n",
    "            malwares.add(line.strip().split(\",\")[0])    \n",
    "    return malwares"
   ]
  },
  {
   "cell_type": "code",
   "execution_count": 4,
   "metadata": {},
   "outputs": [],
   "source": [
    "malwares_path = \"drebin/sha256_family.csv\"\n",
    "malwares = loadMalwares(malwares_path)"
   ]
  },
  {
   "cell_type": "code",
   "execution_count": 5,
   "metadata": {},
   "outputs": [],
   "source": [
    "# create a file for labels, one label per row\n",
    "#    feature::stuff\n",
    "#    feature::stuff2\n",
    "#    ...\n",
    "#    url::stuffn\n",
    "\n",
    "from os import listdir\n",
    "from os.path import isfile, join\n",
    "\n",
    "def loadFiles(path, num_malw, num_good, malwares):\n",
    "    malware_files = []\n",
    "    good_files = []\n",
    "    l1 = 0\n",
    "    l2 = 0\n",
    "    for file in listdir(path):\n",
    "        if l1 >= num_malw and l2 >= num_good:\n",
    "            break\n",
    "        if isfile(join(path, file)):\n",
    "            if file in malwares:\n",
    "                if l1 < num_malw:\n",
    "                    malware_files.append(file)\n",
    "                    l1+=1\n",
    "            elif l2 < num_good:\n",
    "                good_files.append(file)\n",
    "                l2+=1\n",
    "    return malware_files, good_files"
   ]
  },
  {
   "cell_type": "code",
   "execution_count": 6,
   "metadata": {},
   "outputs": [
    {
     "name": "stdout",
     "output_type": "stream",
     "text": [
      "loading filenames...\n",
      "done\n"
     ]
    }
   ],
   "source": [
    "sha_path = \"drebin/feature_vectors\"\n",
    "print(\"loading filenames...\", flush = True)\n",
    "\n",
    "malware_files, good_files = loadFiles(sha_path, num_malwares, num_good, malwares)\n",
    "print(\"done\", flush = True)"
   ]
  },
  {
   "cell_type": "code",
   "execution_count": 7,
   "metadata": {},
   "outputs": [
    {
     "data": {
      "text/plain": [
       "'Processing 5000 out of 5000 - 100.0% (32642)'"
      ]
     },
     "metadata": {},
     "output_type": "display_data"
    },
    {
     "name": "stdout",
     "output_type": "stream",
     "text": [
      "We found 32642 labels\n"
     ]
    }
   ],
   "source": [
    "from IPython.display import display, clear_output\n",
    "\n",
    "good_files.extend(malware_files)\n",
    "files = good_files\n",
    "labels = []\n",
    "labels_set = set()\n",
    "i = 0\n",
    "l = len(files)\n",
    "cnt = 100\n",
    "for file in files:\n",
    "    cnt-=1\n",
    "    i+=1\n",
    "    if cnt == 0:\n",
    "        cnt = 100\n",
    "        perc = str(i) + \" out of \" + str(l) + \" - \" + str(i*100/l) + \"%\" \n",
    "        clear_output(wait=True)\n",
    "        display(\"Processing \" + perc + \" (\" + str(len(labels)) + \")\")\n",
    "    with open(join(sha_path, file), \"r\") as fin:\n",
    "        for line in fin:\n",
    "            line = line.strip()\n",
    "            if line.startswith(\"api_call\") or line.startswith(\"url\") or line.startswith(\"activity\") or line.startswith(\"features\"):\n",
    "                if line not in labels_set:\n",
    "                    labels.append(line)\n",
    "                    labels_set.add(line)\n",
    "\n",
    "# debug\n",
    "print(\"We found\", len(labels), \"labels\")"
   ]
  },
  {
   "cell_type": "code",
   "execution_count": 8,
   "metadata": {},
   "outputs": [],
   "source": [
    "def saveLabels(path, labels):\n",
    "    with open(path, \"w\") as fout:\n",
    "        for label in labels:\n",
    "            print(label, file=fout)"
   ]
  },
  {
   "cell_type": "code",
   "execution_count": 9,
   "metadata": {},
   "outputs": [
    {
     "name": "stdout",
     "output_type": "stream",
     "text": [
      "and we saved them in a file\n"
     ]
    }
   ],
   "source": [
    "csv_path = \"drebin/labels.txt\"\n",
    "saveLabels(csv_path, labels)\n",
    "\n",
    "# debug\n",
    "print(\"and we saved them in a file\")"
   ]
  },
  {
   "cell_type": "code",
   "execution_count": 10,
   "metadata": {},
   "outputs": [],
   "source": [
    "# read labels in a dict s.t dict[label] = index (=row_number in labels file)\n",
    "def loadLabels(path):\n",
    "    labels = {}\n",
    "    i = 0\n",
    "    with open(path, \"r\") as fin:\n",
    "        for line in fin:\n",
    "            line = line.strip()\n",
    "            labels[line] = i\n",
    "            i+=1\n",
    "    return labels"
   ]
  },
  {
   "cell_type": "code",
   "execution_count": 11,
   "metadata": {},
   "outputs": [],
   "source": [
    "indexed_labels = loadLabels(csv_path)"
   ]
  },
  {
   "cell_type": "code",
   "execution_count": 12,
   "metadata": {},
   "outputs": [],
   "source": [
    "# create matrix input and vector of supervsed\n",
    "\n",
    "import numpy as np\n",
    "\n",
    "def createDataset(path, files, malwares, labels, indexed_labels):\n",
    "    m = []\n",
    "    t = []\n",
    "\n",
    "    len_files = len(files)\n",
    "    len_labels = len(labels)\n",
    "    cnt = 100\n",
    "    i = 0\n",
    "    for file in files:\n",
    "        cnt-=1\n",
    "        i+=1\n",
    "        if cnt == 0:\n",
    "            cnt = 100\n",
    "            perc = str(i) + \" out of \" + str(l) + \" - \" + str(i*100/len_files) + \"%\" \n",
    "            clear_output(wait=True)\n",
    "            display(\"Processing \" + perc)\n",
    "        with open(join(path, file), \"r\") as fin:\n",
    "            if file in malwares:\n",
    "                t.append(1)\n",
    "            else:\n",
    "                t.append(-1)\n",
    "            vector = np.negative(np.ones(len(labels)))\n",
    "\n",
    "            for line in fin:\n",
    "                line = line.strip()\n",
    "                if line in labels:\n",
    "                    vector[indexed_labels[line]] = 1                \n",
    "            m.append(vector)\n",
    "    return m,t"
   ]
  },
  {
   "cell_type": "code",
   "execution_count": 13,
   "metadata": {},
   "outputs": [
    {
     "data": {
      "text/plain": [
       "'Processing 5000 out of 5000 - 100.0%'"
      ]
     },
     "metadata": {},
     "output_type": "display_data"
    },
    {
     "name": "stdout",
     "output_type": "stream",
     "text": [
      "ended\n"
     ]
    }
   ],
   "source": [
    "m,t = createDataset(sha_path, files, malwares, labels, indexed_labels)\n",
    "            \n",
    "# debug\n",
    "print(\"ended\")"
   ]
  },
  {
   "cell_type": "code",
   "execution_count": 14,
   "metadata": {},
   "outputs": [
    {
     "data": {
      "text/plain": [
       "SVC(C=1.0, cache_size=200, class_weight='balanced', coef0=0.0,\n",
       "  decision_function_shape='ovr', degree=3, gamma='auto', kernel='rbf',\n",
       "  max_iter=-1, probability=False, random_state=None, shrinking=True,\n",
       "  tol=0.001, verbose=False)"
      ]
     },
     "execution_count": 14,
     "metadata": {},
     "output_type": "execute_result"
    }
   ],
   "source": [
    "from sklearn import svm\n",
    "clf = svm.SVC(class_weight='balanced')\n",
    "clf.fit(m,t)"
   ]
  },
  {
   "cell_type": "code",
   "execution_count": 15,
   "metadata": {},
   "outputs": [
    {
     "name": "stdout",
     "output_type": "stream",
     "text": [
      "accuracy: 0.80 (+/- 0.02)\n"
     ]
    }
   ],
   "source": [
    "from sklearn.model_selection import cross_val_score\n",
    "\n",
    "scoring = 'accuracy'\n",
    "scores = cross_val_score(clf, m, t, cv=5, scoring = scoring)\n",
    "print(scoring + \": %0.2f (+/- %0.2f)\" % (scores.mean(), scores.std() * 2))"
   ]
  },
  {
   "cell_type": "code",
   "execution_count": 16,
   "metadata": {},
   "outputs": [],
   "source": [
    "# build conf_matrix in cross validation\n",
    "from sklearn.metrics import confusion_matrix\n",
    "from sklearn.model_selection import cross_val_predict\n",
    "\n",
    "y_pred = cross_val_predict(clf, m, t, cv=5)\n",
    "cnf_matrix = confusion_matrix(t, y_pred)"
   ]
  },
  {
   "cell_type": "code",
   "execution_count": 17,
   "metadata": {},
   "outputs": [],
   "source": [
    "# build conf_matrix of training set (Note: use this or the previous one!!!)\n",
    "\n",
    "#from sklearn.metrics import confusion_matrix\n",
    "\n",
    "#predicted = []\n",
    "#for k in range(len(t)):\n",
    "#    predicted.append(clf.predict([m[k]])[0])\n",
    "\n",
    "#cnf_matrix = confusion_matrix(t, predicted)"
   ]
  },
  {
   "cell_type": "code",
   "execution_count": 18,
   "metadata": {},
   "outputs": [],
   "source": [
    "import matplotlib.pyplot as plt\n",
    "import itertools\n",
    "\n",
    "def plot_confusion_matrix(cm, classes,\n",
    "                          normalize=False,\n",
    "                          title='Confusion matrix',\n",
    "                          cmap=plt.cm.Blues):\n",
    "    \"\"\"\n",
    "    This function prints and plots the confusion matrix.\n",
    "    Normalization can be applied by setting `normalize=True`.\n",
    "    \"\"\"\n",
    "    if normalize:\n",
    "        cm = cm.astype('float') / cm.sum(axis=1)[:, np.newaxis]\n",
    "        print(\"Normalized confusion matrix\")\n",
    "    else:\n",
    "        print('Confusion matrix, without normalization')\n",
    "\n",
    "    print(cm)\n",
    "\n",
    "    plt.imshow(cm, interpolation='nearest', cmap=cmap)\n",
    "    plt.title(title)\n",
    "    plt.colorbar()\n",
    "    tick_marks = np.arange(len(classes))\n",
    "    plt.xticks(tick_marks, classes, rotation=45)\n",
    "    plt.yticks(tick_marks, classes)\n",
    "\n",
    "    fmt = '.2f' if normalize else 'd'\n",
    "    thresh = cm.max() / 2.\n",
    "    for i, j in itertools.product(range(cm.shape[0]), range(cm.shape[1])):\n",
    "        plt.text(j, i, format(cm[i, j], fmt),\n",
    "                 horizontalalignment=\"center\",\n",
    "                 color=\"white\" if cm[i, j] > thresh else \"black\")\n",
    "\n",
    "    plt.ylabel('True label')\n",
    "    plt.xlabel('Predicted label')\n",
    "    plt.tight_layout()"
   ]
  },
  {
   "cell_type": "code",
   "execution_count": 19,
   "metadata": {},
   "outputs": [
    {
     "name": "stdout",
     "output_type": "stream",
     "text": [
      "Confusion matrix, without normalization\n",
      "[[2764  236]\n",
      " [ 743 1257]]\n"
     ]
    },
    {
     "data": {
      "image/png": "[encoded data removed]",
      "text/plain": [
       "<Figure size 432x288 with 2 Axes>"
      ]
     },
     "metadata": {
      "needs_background": "light"
     },
     "output_type": "display_data"
    },
    {
     "name": "stdout",
     "output_type": "stream",
     "text": [
      "Normalized confusion matrix\n",
      "[[0.92 0.08]\n",
      " [0.37 0.63]]\n"
     ]
    },
    {
     "data": {
      "image/png": "[encoded data removed]",
      "text/plain": [
       "<Figure size 432x288 with 2 Axes>"
      ]
     },
     "metadata": {
      "needs_background": "light"
     },
     "output_type": "display_data"
    }
   ],
   "source": [
    "np.set_printoptions(precision=2)\n",
    "\n",
    "class_names = [\"good\", \"malware\"]\n",
    "\n",
    "# Plot non-normalized confusion matrix\n",
    "plt.figure()\n",
    "plot_confusion_matrix(cnf_matrix, classes=class_names,\n",
    "                      title='Confusion matrix, without normalization')\n",
    "\n",
    "plt.show()\n",
    "\n",
    "# Plot normalized confusion matrix\n",
    "plt.figure()\n",
    "plot_confusion_matrix(cnf_matrix, classes=class_names, normalize=True,\n",
    "                      title='Normalized confusion matrix')\n",
    "\n",
    "plt.show()"
   ]
  }
 ],
 "metadata": {
  "kernelspec": {
   "display_name": "Python 3",
   "language": "python",
   "name": "python3"
  },
  "language_info": {
   "codemirror_mode": {
    "name": "ipython",
    "version": 3
   },
   "file_extension": ".py",
   "mimetype": "text/x-python",
   "name": "python",
   "nbconvert_exporter": "python",
   "pygments_lexer": "ipython3",
   "version": "3.7.0"
  }
 },
 "nbformat": 4,
 "nbformat_minor": 2
}
